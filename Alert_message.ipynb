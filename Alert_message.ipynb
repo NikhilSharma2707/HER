{
 "cells": [
  {
   "cell_type": "code",
   "execution_count": 1,
   "id": "1fa503de-29e0-49ad-9e03-e4906f7d3ebd",
   "metadata": {},
   "outputs": [
    {
     "name": "stdout",
     "output_type": "stream",
     "text": [
      "Checking location: 12.812, 80.045\n",
      "Distance to geofence center: 349.8328326855543 meters\n",
      "User is inside the geofenced area!\n",
      "SMS sent to +918697453002: SM664886ba129bae059cce58d45b0b2bb6\n"
     ]
    }
   ],
   "source": [
    "from geopy.distance import geodesic\n",
    "from twilio.rest import Client\n",
    "\n",
    "# Using hardcoded values from config.py directly in the notebook\n",
    "TWILIO_ACCOUNT_SID = 'give uour SID ID'\n",
    "TWILIO_AUTH_TOKEN = 'Give your Auth Token'\n",
    "TWILIO_PHONE_NUMBER = 'Give your Twilio Phone number'\n",
    "USER_MOBILE_NUMBERS = ['Give user Mobile number']  # Replace with user phone numbers\n",
    "\n",
    "# Initialize Twilio client\n",
    "client = Client(TWILIO_ACCOUNT_SID, TWILIO_AUTH_TOKEN)\n",
    "\n",
    "# Define the geofence (latitude, longitude, and radius in meters)\n",
    "geofence = {\n",
    "    'lat': 12.8137323,  # Latitude for dangerous area\n",
    "    'lng': 80.0423042,  # Longitude for dangerous area\n",
    "    'radius': 1000      # Radius in meters\n",
    "}\n",
    "\n",
    "# Simulated user's current GPS location (latitude, longitude)\n",
    "user_location = (12.8120, 80.0450)  # Adjust these values to test different locations\n",
    "\n",
    "# Function to check if the user is inside the geofence\n",
    "def is_inside_geofence(user_lat, user_lng, geofence):\n",
    "    geofence_location = (geofence['lat'], geofence['lng'])\n",
    "    user_location = (user_lat, user_lng)\n",
    "    distance = geodesic(user_location, geofence_location).meters\n",
    "    print(f\"Distance to geofence center: {distance} meters\")  # Debug print\n",
    "    return distance <= geofence['radius']\n",
    "\n",
    "# Function to send SMS alert\n",
    "def send_sms_alert():\n",
    "    for number in USER_MOBILE_NUMBERS:\n",
    "        message = client.messages.create(\n",
    "            body=\"Alert: you are in SRM\",\n",
    "            from_=TWILIO_PHONE_NUMBER,\n",
    "            to=number\n",
    "        )\n",
    "        print(f'SMS sent to {number}: {message.sid}')\n",
    "\n",
    "# Check if the user is inside the geofence\n",
    "user_lat, user_lng = user_location\n",
    "print(f\"Checking location: {user_lat}, {user_lng}\")  # Debug print\n",
    "if is_inside_geofence(user_lat, user_lng, geofence):\n",
    "    print(\"User is inside the geofenced area!\")\n",
    "    send_sms_alert()\n",
    "else:\n",
    "    print(\"User is outside the geofenced area.\")\n"
   ]
  },
  {
   "cell_type": "code",
   "execution_count": null,
   "id": "0f66f6b9-afe8-4f8c-900f-745a9c16bd13",
   "metadata": {},
   "outputs": [],
   "source": []
  }
 ],
 "metadata": {
  "kernelspec": {
   "display_name": "Python 3 (ipykernel)",
   "language": "python",
   "name": "python3"
  },
  "language_info": {
   "codemirror_mode": {
    "name": "ipython",
    "version": 3
   },
   "file_extension": ".py",
   "mimetype": "text/x-python",
   "name": "python",
   "nbconvert_exporter": "python",
   "pygments_lexer": "ipython3",
   "version": "3.12.4"
  }
 },
 "nbformat": 4,
 "nbformat_minor": 5
}
